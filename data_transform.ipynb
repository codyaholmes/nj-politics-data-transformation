{
 "cells": [
  {
   "cell_type": "code",
   "execution_count": 9,
   "metadata": {},
   "outputs": [],
   "source": [
    "import pandas as pd"
   ]
  },
  {
   "cell_type": "code",
   "execution_count": 10,
   "metadata": {},
   "outputs": [],
   "source": [
    "file_dict = {\n",
    "    '2019 Election Results (1).xlsx': [2, 38],\n",
    "    '2020 Election Results (1).xlsx': [2, 43],\n",
    "    '2021 Election Results (1).xlsx': [2, 33],\n",
    "    '2022 Election Results (1).xlsx': [2, 38]\n",
    "}"
   ]
  },
  {
   "cell_type": "code",
   "execution_count": 26,
   "metadata": {},
   "outputs": [],
   "source": [
    "def concat_excel_tabs(files:dict) -> tuple[pd.DataFrame, pd.DataFrame]:\n",
    "\n",
    "    county_votes_df = pd.DataFrame()\n",
    "    all_county_dfs = []\n",
    "    reg_votes_df = pd.DataFrame()\n",
    "    all_reg_votes_dfs = []\n",
    "    name_map = {'Unnamed: 0': 'County', 'Unnamed: 1': 'Registered Voters'}\n",
    "\n",
    "    for k, v in files.items():\n",
    "        file_name = k\n",
    "        tab_start = v[0]\n",
    "        tab_end = v[1]+1\n",
    "        #tab_end = 4 # for testing\n",
    "\n",
    "        for tab in range(tab_start, tab_end):\n",
    "            year = file_name[:4]\n",
    "            scope = pd.read_excel(file_name, sheet_name=str(tab)).columns[0]\n",
    "            df = pd.read_excel(file_name, sheet_name=str(tab), skiprows=1)\n",
    "            df = df.iloc[1:, :].copy()\n",
    "            df.rename(name_map, axis=1, inplace=True)\n",
    "            df = df.melt(id_vars='County').copy()\n",
    "\n",
    "            new_county_votes_df = df[df.variable != 'Registered Voters'].copy()\n",
    "            new_county_votes_df['Year'] = year\n",
    "            new_county_votes_df['Election'] = scope\n",
    "            all_county_dfs.append(new_county_votes_df)\n",
    "\n",
    "            new_reg_votes_df = df[df.variable == 'Registered Voters'].copy()\n",
    "            new_reg_votes_df['Year'] = year\n",
    "            new_reg_votes_df['Election'] = scope\n",
    "            all_reg_votes_dfs.append(new_reg_votes_df)\n",
    "\n",
    "    final_list_county_dfs = [county_votes_df] + all_county_dfs\n",
    "    final_county_votes_df = pd.concat(final_list_county_dfs, axis=0)\n",
    "    final_county_votes_df.columns = ['seat', 'candidate', 'votes', 'year', 'election']\n",
    "\n",
    "    final_list_reg_votes_dfs = [reg_votes_df] + all_reg_votes_dfs\n",
    "    final_reg_votes_df = pd.concat(final_list_reg_votes_dfs, axis=0)\n",
    "    final_reg_votes_df.columns = ['seat', 'variable', 'total', 'year', 'election']\n",
    "\n",
    "    return (final_county_votes_df, final_reg_votes_df)"
   ]
  },
  {
   "cell_type": "code",
   "execution_count": 27,
   "metadata": {},
   "outputs": [],
   "source": [
    "county_votes, reg_votes = concat_excel_tabs(file_dict)"
   ]
  },
  {
   "cell_type": "code",
   "execution_count": 31,
   "metadata": {},
   "outputs": [],
   "source": [
    "with pd.ExcelWriter('election_results_clean.xlsx') as writer:\n",
    "    county_votes.to_excel(writer, sheet_name='election_results', index=False)\n",
    "    reg_votes.to_excel(writer, sheet_name='registered_voters', index=False)"
   ]
  }
 ],
 "metadata": {
  "kernelspec": {
   "display_name": "Python 3.9.5 64-bit",
   "language": "python",
   "name": "python3"
  },
  "language_info": {
   "codemirror_mode": {
    "name": "ipython",
    "version": 3
   },
   "file_extension": ".py",
   "mimetype": "text/x-python",
   "name": "python",
   "nbconvert_exporter": "python",
   "pygments_lexer": "ipython3",
   "version": "3.9.5"
  },
  "orig_nbformat": 4,
  "vscode": {
   "interpreter": {
    "hash": "1ff0ee95b15f3b11f974f78ebca16c3e32e1ce848180e018a371a8b6a2f73fac"
   }
  }
 },
 "nbformat": 4,
 "nbformat_minor": 2
}
